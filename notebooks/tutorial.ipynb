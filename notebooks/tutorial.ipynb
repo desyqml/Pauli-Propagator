{
 "cells": [
  {
   "cell_type": "markdown",
   "id": "65e60914",
   "metadata": {
    "vscode": {
     "languageId": "plaintext"
    }
   },
   "source": [
    "# Pauli Propagation of Parametrized Circuits: Tutorial"
   ]
  },
  {
   "cell_type": "markdown",
   "id": "d8013daf",
   "metadata": {
    "vscode": {
     "languageId": "plaintext"
    }
   },
   "source": [
    "* **Step 0:** Import the necessary libraries"
   ]
  },
  {
   "cell_type": "code",
   "execution_count": 1,
   "id": "c95dc1ed",
   "metadata": {},
   "outputs": [
    {
     "name": "stderr",
     "output_type": "stream",
     "text": [
      "/home/samonaco/Projects/Pauli-Propagator/.venv/lib/python3.12/site-packages/pennylane/operation.py:2622: PennyLaneDeprecationWarning: Observable is deprecated and will be removed in v0.43. A generic Operator class should be used instead. If defining an Operator, set the is_hermitian property to True. If checking if an Operator is Hermitian, check the is_hermitian property. \n",
      "  warnings.warn(\n"
     ]
    }
   ],
   "source": [
    "import pennylane as qml # To define the circuit\n",
    "from pprop.propagator import Propagator # For Pauli Propagation"
   ]
  },
  {
   "cell_type": "markdown",
   "id": "b0281e57",
   "metadata": {},
   "source": [
    "* **Step 1:** Define the Ansatz as a function of a parameter list that returns the `qml.expval` of the desired observables"
   ]
  },
  {
   "cell_type": "code",
   "execution_count": 11,
   "id": "d5e03790",
   "metadata": {},
   "outputs": [],
   "source": [
    "# Function of parameters\n",
    "def ansatz(params : list[float]):\n",
    "    qml.RX(params[0], wires=0)\n",
    "    qml.RX(params[1], wires=1)\n",
    "\n",
    "    qml.RY(params[2], wires=0)\n",
    "    qml.RY(params[3], wires=1)\n",
    "    \n",
    "    qml.Hadamard(wires = 2)\n",
    "    \n",
    "    qml.Barrier()\n",
    "    \n",
    "    qml.CNOT(wires = [0, 1])\n",
    "    qml.CNOT(wires = [1, 2])\n",
    "    \n",
    "    qml.Barrier()\n",
    "    \n",
    "    qml.RY(params[4], wires=0)\n",
    "    qml.RY(params[5], wires=1)\n",
    "    qml.RY(params[6], wires=2)\n",
    "    \n",
    "    return [qml.expval(qml.PauliZ(qubit)) for qubit in range(3)] + [qml.expval(qml.PauliX(0)@qml.PauliX(1)@qml.PauliX(2))] + [qml.expval(qml.PauliY(2))]"
   ]
  },
  {
   "cell_type": "markdown",
   "id": "60e71667",
   "metadata": {},
   "source": [
    "* **Step 2:** Define the propagator, use `.propagate()` to propagate and use `.lambdify()` to convert the circuit as a function of the parameters"
   ]
  },
  {
   "cell_type": "code",
   "execution_count": 15,
   "id": "e1185e13",
   "metadata": {},
   "outputs": [
    {
     "data": {
      "text/plain": [
       "Propagator\n",
       "  Number of qubits : 3\n",
       "  Trainable parameters : 7\n",
       "  Cutoff 1: None | Cutoff 2: None\n",
       "  Observables [Z(0), Z(1), Z(2), (X(0) @ X(1) @ X(2)), Y(2)]\n",
       "0: ──RX──RY──||─╭●─────||──RY─┤  <Z> ╭<X@X@X>     \n",
       "1: ──RX──RY──||─╰X─╭●──||──RY─┤  <Z> ├<X@X@X>     \n",
       "2: ──H───────||────╰X──||──RY─┤  <Z> ╰<X@X@X>  <Y>"
      ]
     },
     "execution_count": 15,
     "metadata": {},
     "output_type": "execute_result"
    }
   ],
   "source": [
    "prop = Propagator(\n",
    "    ansatz, \n",
    "    k1 = None, # Cutoff on the Pauli Weight\n",
    "    k2 = None, # Cutoff on the frequencies\n",
    ")\n",
    "prop"
   ]
  },
  {
   "cell_type": "code",
   "execution_count": 16,
   "id": "a75c5b98",
   "metadata": {},
   "outputs": [
    {
     "name": "stderr",
     "output_type": "stream",
     "text": [
      "Propagating Y(2): 100%|██████████| 5/5 [00:00<00:00, 1234.20it/s]      \n"
     ]
    }
   ],
   "source": [
    "prop.propagate()"
   ]
  },
  {
   "cell_type": "code",
   "execution_count": 17,
   "id": "a56f7c1e",
   "metadata": {},
   "outputs": [],
   "source": [
    "func = prop.lambdify()"
   ]
  },
  {
   "cell_type": "code",
   "execution_count": 21,
   "id": "3922b027",
   "metadata": {},
   "outputs": [
    {
     "name": "stdout",
     "output_type": "stream",
     "text": [
      "[tensor(0.47070306, requires_grad=True), tensor(0.35555595, requires_grad=True), tensor(-0.1496074, requires_grad=True), tensor(0.18249082, requires_grad=True), 0]\n"
     ]
    }
   ],
   "source": [
    "random_params = qml.numpy.random.rand(prop.num_params)\n",
    "prop_output = func(random_params)\n",
    "print(prop_output)"
   ]
  },
  {
   "cell_type": "markdown",
   "id": "1eb538ae",
   "metadata": {},
   "source": [
    "The output *should* be equal to the `qml.QNode` execution:"
   ]
  },
  {
   "cell_type": "code",
   "execution_count": 23,
   "id": "a125309b",
   "metadata": {},
   "outputs": [
    {
     "data": {
      "text/plain": [
       "[tensor(0.47070306, requires_grad=True),\n",
       " tensor(0.35555595, requires_grad=True),\n",
       " tensor(-0.1496074, requires_grad=True),\n",
       " tensor(0.18249082, requires_grad=True),\n",
       " tensor(5.55111512e-17, requires_grad=True)]"
      ]
     },
     "execution_count": 23,
     "metadata": {},
     "output_type": "execute_result"
    }
   ],
   "source": [
    "device = qml.device('default.qubit', wires = 4)\n",
    "\n",
    "circuit = qml.QNode(ansatz, device)\n",
    "pennylane_output = circuit(random_params)\n",
    "pennylane_output"
   ]
  },
  {
   "cell_type": "markdown",
   "id": "6109b7a0",
   "metadata": {},
   "source": [
    "How much is the difference between the two outputs?"
   ]
  },
  {
   "cell_type": "code",
   "execution_count": 25,
   "id": "5665d04b",
   "metadata": {},
   "outputs": [
    {
     "name": "stdout",
     "output_type": "stream",
     "text": [
      "1.1102230246251565e-16\n",
      "5.551115123125783e-17\n",
      "5.551115123125783e-17\n",
      "1.6653345369377348e-16\n",
      "5.551115123125783e-17\n"
     ]
    }
   ],
   "source": [
    "for out1, out2 in zip(prop_output, pennylane_output):\n",
    "    print(abs(out1 - out2))"
   ]
  },
  {
   "cell_type": "markdown",
   "id": "aca1c1ed",
   "metadata": {},
   "source": [
    "You can inspect the functions through `.propagate()`:"
   ]
  },
  {
   "cell_type": "code",
   "execution_count": 19,
   "id": "f74c7a5c",
   "metadata": {},
   "outputs": [
    {
     "data": {
      "text/latex": [
       "$\\displaystyle Z0 = -sin(\\theta_2)*sin(\\theta_3)*sin(\\theta_4)*cos(\\theta_0)*cos(\\theta_1) + cos(\\theta_0)*cos(\\theta_2)*cos(\\theta_4)$"
      ],
      "text/plain": [
       "<IPython.core.display.Math object>"
      ]
     },
     "metadata": {},
     "output_type": "display_data"
    },
    {
     "data": {
      "text/latex": [
       "$\\displaystyle Z1 = -sin(\\theta_3)*sin(\\theta_5)*cos(\\theta_1) + cos(\\theta_0)*cos(\\theta_1)*cos(\\theta_2)*cos(\\theta_3)*cos(\\theta_5)$"
      ],
      "text/plain": [
       "<IPython.core.display.Math object>"
      ]
     },
     "metadata": {},
     "output_type": "display_data"
    },
    {
     "data": {
      "text/latex": [
       "$\\displaystyle Z2 = -sin(\\theta_6)$"
      ],
      "text/plain": [
       "<IPython.core.display.Math object>"
      ]
     },
     "metadata": {},
     "output_type": "display_data"
    },
    {
     "data": {
      "text/latex": [
       "$\\displaystyle X0@X1@X2 = -sin(\\theta_0)*sin(\\theta_1)*sin(\\theta_5)*cos(\\theta_4)*cos(\\theta_6) + sin(\\theta_2)*cos(\\theta_0)*cos(\\theta_4)*cos(\\theta_5)*cos(\\theta_6) + sin(\\theta_3)*sin(\\theta_4)*cos(\\theta_0)*cos(\\theta_1)*cos(\\theta_2)*cos(\\theta_5)*cos(\\theta_6) + sin(\\theta_4)*sin(\\theta_5)*cos(\\theta_1)*cos(\\theta_3)*cos(\\theta_6)$"
      ],
      "text/plain": [
       "<IPython.core.display.Math object>"
      ]
     },
     "metadata": {},
     "output_type": "display_data"
    },
    {
     "data": {
      "text/latex": [
       "$\\displaystyle Y2 = 0$"
      ],
      "text/plain": [
       "<IPython.core.display.Math object>"
      ]
     },
     "metadata": {},
     "output_type": "display_data"
    },
    {
     "data": {
      "image/png": "[encoded data removed]",
      "text/latex": [
       "$\\displaystyle \\left[ Z_{0} = - \\sin{\\left(\\theta_{2} \\right)} \\sin{\\left(\\theta_{3} \\right)} \\sin{\\left(\\theta_{4} \\right)} \\cos{\\left(\\theta_{0} \\right)} \\cos{\\left(\\theta_{1} \\right)} + \\cos{\\left(\\theta_{0} \\right)} \\cos{\\left(\\theta_{2} \\right)} \\cos{\\left(\\theta_{4} \\right)}, \\  Z_{1} = - \\sin{\\left(\\theta_{3} \\right)} \\sin{\\left(\\theta_{5} \\right)} \\cos{\\left(\\theta_{1} \\right)} + \\cos{\\left(\\theta_{0} \\right)} \\cos{\\left(\\theta_{1} \\right)} \\cos{\\left(\\theta_{2} \\right)} \\cos{\\left(\\theta_{3} \\right)} \\cos{\\left(\\theta_{5} \\right)}, \\  Z_{2} = - \\sin{\\left(\\theta_{6} \\right)}, \\  X0@X1@X2 = - \\sin{\\left(\\theta_{0} \\right)} \\sin{\\left(\\theta_{1} \\right)} \\sin{\\left(\\theta_{5} \\right)} \\cos{\\left(\\theta_{4} \\right)} \\cos{\\left(\\theta_{6} \\right)} + \\sin{\\left(\\theta_{2} \\right)} \\cos{\\left(\\theta_{0} \\right)} \\cos{\\left(\\theta_{4} \\right)} \\cos{\\left(\\theta_{5} \\right)} \\cos{\\left(\\theta_{6} \\right)} + \\sin{\\left(\\theta_{3} \\right)} \\sin{\\left(\\theta_{4} \\right)} \\cos{\\left(\\theta_{0} \\right)} \\cos{\\left(\\theta_{1} \\right)} \\cos{\\left(\\theta_{2} \\right)} \\cos{\\left(\\theta_{5} \\right)} \\cos{\\left(\\theta_{6} \\right)} + \\sin{\\left(\\theta_{4} \\right)} \\sin{\\left(\\theta_{5} \\right)} \\cos{\\left(\\theta_{1} \\right)} \\cos{\\left(\\theta_{3} \\right)} \\cos{\\left(\\theta_{6} \\right)}, \\  Y_{2} = 0\\right]$"
      ],
      "text/plain": [
       "[Z₀ = -sin(\\theta₂)⋅sin(\\theta₃)⋅sin(\\theta₄)⋅cos(\\theta₀)⋅cos(\\theta₁) + cos( ↪\n",
       "\n",
       "↪ \\theta₀)⋅cos(\\theta₂)⋅cos(\\theta₄), Z₁ = -sin(\\theta₃)⋅sin(\\theta₅)⋅cos(\\the ↪\n",
       "\n",
       "↪ ta₁) + cos(\\theta₀)⋅cos(\\theta₁)⋅cos(\\theta₂)⋅cos(\\theta₃)⋅cos(\\theta₅), Z₂  ↪\n",
       "\n",
       "↪ = -sin(\\theta₆), X0@X1@X2 = -sin(\\theta₀)⋅sin(\\theta₁)⋅sin(\\theta₅)⋅cos(\\the ↪\n",
       "\n",
       "↪ ta₄)⋅cos(\\theta₆) + sin(\\theta₂)⋅cos(\\theta₀)⋅cos(\\theta₄)⋅cos(\\theta₅)⋅cos( ↪\n",
       "\n",
       "↪ \\theta₆) + sin(\\theta₃)⋅sin(\\theta₄)⋅cos(\\theta₀)⋅cos(\\theta₁)⋅cos(\\theta₂)⋅ ↪\n",
       "\n",
       "↪ cos(\\theta₅)⋅cos(\\theta₆) + sin(\\theta₄)⋅sin(\\theta₅)⋅cos(\\theta₁)⋅cos(\\thet ↪\n",
       "\n",
       "↪ a₃)⋅cos(\\theta₆), Y₂ = 0]"
      ]
     },
     "execution_count": 19,
     "metadata": {},
     "output_type": "execute_result"
    }
   ],
   "source": [
    "prop.expression(text = False)"
   ]
  },
  {
   "cell_type": "markdown",
   "id": "1aedbf87",
   "metadata": {},
   "source": [
    "\n",
    "> **Note:** Check out the other notebooks for additional examples and use cases."
   ]
  }
 ],
 "metadata": {
  "kernelspec": {
   "display_name": "Pauli-Propagator",
   "language": "python",
   "name": "python3"
  },
  "language_info": {
   "codemirror_mode": {
    "name": "ipython",
    "version": 3
   },
   "file_extension": ".py",
   "mimetype": "text/x-python",
   "name": "python",
   "nbconvert_exporter": "python",
   "pygments_lexer": "ipython3",
   "version": "3.12.3"
  }
 },
 "nbformat": 4,
 "nbformat_minor": 5
}
