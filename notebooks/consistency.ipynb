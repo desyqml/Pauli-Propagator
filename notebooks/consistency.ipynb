{
 "cells": [
  {
   "cell_type": "markdown",
   "metadata": {},
   "source": [
    "# ZPropagator - Checking consistency"
   ]
  },
  {
   "cell_type": "markdown",
   "metadata": {},
   "source": [
    "### Verify that the outputs of the propagation model and the Pennylane counterpart are the same"
   ]
  },
  {
   "cell_type": "markdown",
   "metadata": {},
   "source": [
    "---"
   ]
  },
  {
   "cell_type": "code",
   "execution_count": 1,
   "metadata": {},
   "outputs": [],
   "source": [
    "import pennylane as qml \n",
    "import jax.numpy as jnp\n",
    "import numpy as np\n",
    "from jax import grad\n",
    "\n",
    "from zprop import propagator, circuits, loss"
   ]
  },
  {
   "cell_type": "code",
   "execution_count": 2,
   "metadata": {},
   "outputs": [],
   "source": [
    "n_qubit = 4           # Number of qubits\n",
    "n_iteration = 2       # Depth of the circuit\n",
    "ansatz = circuits.id9 # Ansatz"
   ]
  },
  {
   "cell_type": "code",
   "execution_count": 3,
   "metadata": {},
   "outputs": [
    {
     "name": "stdout",
     "output_type": "stream",
     "text": [
      "0: ──H──RY(0.00)──H─╭●──RX(0.00)──────────────────────||──H─╭●──RX(4.00)──────────────────────||─┤\n",
      "1: ──H──RY(1.00)──H─╰Z─╭●─────────RX(1.00)────────────||──H─╰Z─╭●─────────RX(5.00)────────────||─┤\n",
      "2: ──H──RY(2.00)──H────╰Z────────╭●─────────RX(2.00)──||──H────╰Z────────╭●─────────RX(6.00)──||─┤\n",
      "3: ──H──RY(3.00)──H──────────────╰Z─────────RX(3.00)──||──H──────────────╰Z─────────RX(7.00)──||─┤\n",
      "\n",
      "   <Z>\n",
      "   <Z>\n",
      "   <Z>\n",
      "   <Z>\n"
     ]
    }
   ],
   "source": [
    "# Define Pennylane circuit as normal\n",
    "\n",
    "def circuit(p_p, p_a):\n",
    "    ansatz(p_a = p_a, p_p = p_p, n_qubit = n_qubit, n_iteration = n_iteration)\n",
    "    return [qml.expval(qml.PauliZ(i)) for i in range(n_qubit)]\n",
    "\n",
    "q_circuit = qml.QNode(circuit, qml.device('default.qubit', n_qubit))\n",
    "\n",
    "print(qml.draw(q_circuit)(np.arange(10000), np.arange(10000)))"
   ]
  },
  {
   "cell_type": "code",
   "execution_count": 4,
   "metadata": {},
   "outputs": [
    {
     "name": "stdout",
     "output_type": "stream",
     "text": [
      "Propagator\n",
      "  Number of qubits : 4\n",
      "  Trainable parameters : 8\n",
      "  Cutoff 1: None | Cutoff 2: None\n",
      "0: ──H──RY──H─╭●──RX──────────||──H─╭●──RX──────────||─┤  <Z>\n",
      "1: ──H──RY──H─╰Z─╭●───RX──────||──H─╰Z─╭●───RX──────||─┤  <Z>\n",
      "2: ──H──RY──H────╰Z──╭●───RX──||──H────╰Z──╭●───RX──||─┤  <Z>\n",
      "3: ──H──RY──H────────╰Z───RX──||──H────────╰Z───RX──||─┤  <Z>\n"
     ]
    }
   ],
   "source": [
    "# Definition of the propagator model\n",
    "\n",
    "prop_model = propagator.Propagator(n_qubit=n_qubit, ansatz=ansatz, n_iteration=n_iteration)\n",
    "\n",
    "print(prop_model)"
   ]
  },
  {
   "cell_type": "code",
   "execution_count": 5,
   "metadata": {},
   "outputs": [],
   "source": [
    "p_p = np.random.rand(prop_model.n_p_p) # Array of trainable parameters\n",
    "p_a = np.random.rand(prop_model.n_p_a) # Array of encoded input"
   ]
  },
  {
   "cell_type": "markdown",
   "metadata": {},
   "source": [
    "#### Circuit output"
   ]
  },
  {
   "cell_type": "code",
   "execution_count": 6,
   "metadata": {},
   "outputs": [
    {
     "data": {
      "text/plain": [
       "array([-0.55490521, -0.04877041, -0.28743651, -0.39587053])"
      ]
     },
     "execution_count": 6,
     "metadata": {},
     "output_type": "execute_result"
    }
   ],
   "source": [
    "# Output of the Pennylane model\n",
    "\n",
    "penny_output = np.array(\n",
    "q_circuit(\n",
    "        p_p = p_p,\n",
    "        p_a = p_a\n",
    "    )\n",
    ")\n",
    "\n",
    "penny_output"
   ]
  },
  {
   "cell_type": "code",
   "execution_count": 7,
   "metadata": {},
   "outputs": [
    {
     "data": {
      "text/plain": [
       "array([-0.55490524, -0.04877037, -0.28743654, -0.3958705 ], dtype=float32)"
      ]
     },
     "execution_count": 7,
     "metadata": {},
     "output_type": "execute_result"
    }
   ],
   "source": [
    "# Lambdify the circuit\n",
    "\n",
    "prop_func, _ = prop_model.Hlambdify()\n",
    "\n",
    "# Output of the Propagator model\n",
    "\n",
    "prop_output  = np.array(prop_func(p_p=p_p, p_a=p_a))\n",
    "\n",
    "prop_output"
   ]
  },
  {
   "cell_type": "code",
   "execution_count": 8,
   "metadata": {},
   "outputs": [
    {
     "data": {
      "text/plain": [
       "array([ True,  True,  True,  True])"
      ]
     },
     "execution_count": 8,
     "metadata": {},
     "output_type": "execute_result"
    }
   ],
   "source": [
    "# Are each individual Z-expectation values the same (more or less)\n",
    "np.isclose(prop_output, penny_output)"
   ]
  },
  {
   "cell_type": "markdown",
   "metadata": {},
   "source": [
    "---"
   ]
  },
  {
   "cell_type": "markdown",
   "metadata": {},
   "source": [
    "#### Circuit gradient\n",
    "Considering the circuit as a function $\\mathcal{F}$, the circuit gradient is $\\partial{\\mathcal{F}}/\\partial{p_i}$, namely the amount of change in the output (exp. values) when changing the trainable parameters"
   ]
  },
  {
   "cell_type": "code",
   "execution_count": 9,
   "metadata": {},
   "outputs": [
    {
     "data": {
      "text/plain": [
       "array([[-0.006, -0.   , -0.   , -0.   , -0.362, -0.   ,  0.   ,  0.   ],\n",
       "       [-0.   ,  0.212, -0.   , -0.   , -0.   ,  0.373, -0.   , -0.   ],\n",
       "       [ 0.   , -0.   ,  0.095,  0.   , -0.   ,  0.   ,  0.321,  0.   ],\n",
       "       [-0.   ,  0.   , -0.   , -0.184,  0.   ,  0.   ,  0.   ,  0.012]],\n",
       "      dtype=float32)"
      ]
     },
     "execution_count": 9,
     "metadata": {},
     "output_type": "execute_result"
    }
   ],
   "source": [
    "def penny_Hprime(p_p, p_a):\n",
    "    def getZ(p_p, p_a, wire):\n",
    "        return q_circuit(p_p=p_p, p_a=p_a)[wire]\n",
    "    \n",
    "    return [grad(getZ)(p_p, p_a, wire) for wire in prop_model.p_measured_qubit]\n",
    "\n",
    "np.round(penny_Hprime(p_p, p_a), 3)\n"
   ]
  },
  {
   "cell_type": "markdown",
   "metadata": {},
   "source": [
    "#### Loss gradient\n",
    "Having the circuit as a function, one can quickly compute the gradient of any loss function using the chain rule:\n",
    "\n",
    "Consider $\\mathcal{L}$ a loss function\n",
    "\n",
    "Its gradient is:\n",
    "\n",
    "$\\displaystyle \\partial\\mathcal{L}/\\partial p_i = \\frac{\\partial \\mathcal{L}}{\\partial \\mathcal{F}}\\frac{\\partial \\mathcal{F}}{\\partial p_i}$"
   ]
  },
  {
   "cell_type": "code",
   "execution_count": 10,
   "metadata": {},
   "outputs": [],
   "source": [
    "# We test this with the MMD loss function"
   ]
  },
  {
   "cell_type": "code",
   "execution_count": 11,
   "metadata": {},
   "outputs": [],
   "source": [
    "# MMD hyper-parameters\n",
    "p_sigma = [1e-3, 1e-2, 1e-1]\n",
    "noise   = 1e-5\n",
    "\n",
    "# Target value\n",
    "Y = 2*np.random.rand(n_qubit) - 1"
   ]
  },
  {
   "cell_type": "code",
   "execution_count": 12,
   "metadata": {},
   "outputs": [
    {
     "data": {
      "text/plain": [
       "Array([-0.0036348 , -0.1979993 , -0.02794293, -0.03558235, -0.2093063 ,\n",
       "       -0.34821817, -0.09410448,  0.00236249], dtype=float32)"
      ]
     },
     "execution_count": 12,
     "metadata": {},
     "output_type": "execute_result"
    }
   ],
   "source": [
    "def mmd_circuit(p_p, p_a):\n",
    "    output = jnp.array(q_circuit(p_p, p_a))\n",
    "    return loss.mmd(output, Y, sigmas=p_sigma, noise=noise)\n",
    "\n",
    "penny_grad = grad(mmd_circuit)(p_p, p_a)\n",
    "\n",
    "penny_grad"
   ]
  },
  {
   "cell_type": "code",
   "execution_count": 14,
   "metadata": {},
   "outputs": [
    {
     "data": {
      "text/plain": [
       "array([-0.0036348 , -0.1979993 , -0.02794298, -0.03558243, -0.2093064 ,\n",
       "       -0.34821822, -0.09410453,  0.00236249])"
      ]
     },
     "execution_count": 14,
     "metadata": {},
     "output_type": "execute_result"
    }
   ],
   "source": [
    "dLdF = grad(loss.mmd)\n",
    "dFdp = prop_model.Hprimelambdify()[0]\n",
    "\n",
    "def grad_prop(p_p, p_a):\n",
    "    output = np.array(prop_func(p_p, p_a))\n",
    "    A = np.array(dLdF(output, Y, sigmas=p_sigma, noise=noise))\n",
    "    B = np.array(dFdp(p_p, p_a))\n",
    "    return np.einsum('b,ab->a', A, B)\n",
    "\n",
    "prop_grad = grad_prop(p_p, p_a)\n",
    "\n",
    "prop_grad"
   ]
  },
  {
   "cell_type": "code",
   "execution_count": 15,
   "metadata": {},
   "outputs": [
    {
     "data": {
      "text/plain": [
       "array([ True,  True,  True,  True,  True,  True,  True,  True])"
      ]
     },
     "execution_count": 15,
     "metadata": {},
     "output_type": "execute_result"
    }
   ],
   "source": [
    "# Are the gradient similar?\n",
    "np.isclose(prop_grad, penny_grad, atol=1e-4)"
   ]
  }
 ],
 "metadata": {
  "kernelspec": {
   "display_name": "zprop",
   "language": "python",
   "name": "python3"
  },
  "language_info": {
   "codemirror_mode": {
    "name": "ipython",
    "version": 3
   },
   "file_extension": ".py",
   "mimetype": "text/x-python",
   "name": "python",
   "nbconvert_exporter": "python",
   "pygments_lexer": "ipython3",
   "version": "3.12.7"
  }
 },
 "nbformat": 4,
 "nbformat_minor": 2
}
