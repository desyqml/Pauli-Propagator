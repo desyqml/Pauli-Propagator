{
 "cells": [
  {
   "cell_type": "markdown",
   "id": "875bbc4e",
   "metadata": {},
   "source": [
    "# Trucation of the Pauli Weight during propagation"
   ]
  },
  {
   "cell_type": "code",
   "execution_count": 4,
   "id": "a9f85093",
   "metadata": {},
   "outputs": [],
   "source": [
    "import pennylane as qml # To define the circuit\n",
    "from pprop.propagator import Propagator # For Pauli Propagation"
   ]
  },
  {
   "cell_type": "code",
   "execution_count": 15,
   "id": "286d2088",
   "metadata": {},
   "outputs": [],
   "source": [
    "# Definition of a very large circuit\n",
    "num_qubits = 64\n",
    "def ansatz(params):\n",
    "    for q in range(num_qubits):\n",
    "        qml.Hadamard(wires=q)\n",
    "        qml.RY(params[q], wires=q)\n",
    "        \n",
    "    for q_control, q_target in zip(range(0, num_qubits, 2), range(1, num_qubits, 2)):\n",
    "        qml.CNOT(wires=[q_control, q_target])\n",
    "\n",
    "    qml.Barrier()\n",
    "\n",
    "    for q in range(num_qubits):\n",
    "        qml.RY(params[num_qubits+q], wires=q)\n",
    "\n",
    "    for q_control, q_target in zip(range(1, num_qubits, 2), range(2, num_qubits, 2)):\n",
    "        qml.CNOT(wires=[q_control, q_target])\n",
    "\n",
    "    qml.Barrier()\n",
    "\n",
    "    for q in range(num_qubits):\n",
    "        qml.RY(params[2*num_qubits+q], wires=q)\n",
    "\n",
    "\n",
    "    return [qml.expval(qml.PauliZ(qubit)) for qubit in range(num_qubits)]\n"
   ]
  },
  {
   "cell_type": "code",
   "execution_count": 18,
   "id": "193821f5",
   "metadata": {},
   "outputs": [
    {
     "data": {
      "text/plain": [
       "Propagator\n",
       "  Number of qubits : 64\n",
       "  Trainable parameters : 192\n",
       "  Cutoff 1: 4 | Cutoff 2: None\n",
       "  Observables [Z(0), Z(1), Z(2), Z(3), Z(4), Z(5), Z(6), Z(7), Z(8), Z(9), Z(10), Z(11), Z(12), Z(13), Z(14), Z(15), Z(16), Z(17), Z(18), Z(19), Z(20), Z(21), Z(22), Z(23), Z(24), Z(25), Z(26), Z(27), Z(28), Z(29), Z(30), Z(31), Z(32), Z(33), Z(34), Z(35), Z(36), Z(37), Z(38), Z(39), Z(40), Z(41), Z(42), Z(43), Z(44), Z(45), Z(46), Z(47), Z(48), Z(49), Z(50), Z(51), Z(52), Z(53), Z(54), Z(55), Z(56), Z(57), Z(58), Z(59), Z(60), Z(61), Z(62), Z(63)]\n",
       " 0: ──H──RY─╭●──||──RY─────||──RY─┤  <Z>\n",
       " 1: ──H──RY─╰X──||──RY─╭●──||──RY─┤  <Z>\n",
       " 2: ──H──RY─╭●──||──RY─╰X──||──RY─┤  <Z>\n",
       " 3: ──H──RY─╰X──||──RY─╭●──||──RY─┤  <Z>\n",
       " 4: ──H──RY─╭●──||──RY─╰X──||──RY─┤  <Z>\n",
       " 5: ──H──RY─╰X──||──RY─╭●──||──RY─┤  <Z>\n",
       " 6: ──H──RY─╭●──||──RY─╰X──||──RY─┤  <Z>\n",
       " 7: ──H──RY─╰X──||──RY─╭●──||──RY─┤  <Z>\n",
       " 8: ──H──RY─╭●──||──RY─╰X──||──RY─┤  <Z>\n",
       " 9: ──H──RY─╰X──||──RY─╭●──||──RY─┤  <Z>\n",
       "10: ──H──RY─╭●──||──RY─╰X──||──RY─┤  <Z>\n",
       "11: ──H──RY─╰X──||──RY─╭●──||──RY─┤  <Z>\n",
       "12: ──H──RY─╭●──||──RY─╰X──||──RY─┤  <Z>\n",
       "13: ──H──RY─╰X──||──RY─╭●──||──RY─┤  <Z>\n",
       "14: ──H──RY─╭●──||──RY─╰X──||──RY─┤  <Z>\n",
       "15: ──H──RY─╰X──||──RY─╭●──||──RY─┤  <Z>\n",
       "16: ──H──RY─╭●──||──RY─╰X──||──RY─┤  <Z>\n",
       "17: ──H──RY─╰X──||──RY─╭●──||──RY─┤  <Z>\n",
       "18: ──H──RY─╭●──||──RY─╰X──||──RY─┤  <Z>\n",
       "19: ──H──RY─╰X──||──RY─╭●──||──RY─┤  <Z>\n",
       "20: ──H──RY─╭●──||──RY─╰X──||──RY─┤  <Z>\n",
       "21: ──H──RY─╰X──||──RY─╭●──||──RY─┤  <Z>\n",
       "22: ──H──RY─╭●──||──RY─╰X──||──RY─┤  <Z>\n",
       "23: ──H──RY─╰X──||──RY─╭●──||──RY─┤  <Z>\n",
       "24: ──H──RY─╭●──||──RY─╰X──||──RY─┤  <Z>\n",
       "25: ──H──RY─╰X──||──RY─╭●──||──RY─┤  <Z>\n",
       "26: ──H──RY─╭●──||──RY─╰X──||──RY─┤  <Z>\n",
       "27: ──H──RY─╰X──||──RY─╭●──||──RY─┤  <Z>\n",
       "28: ──H──RY─╭●──||──RY─╰X──||──RY─┤  <Z>\n",
       "29: ──H──RY─╰X──||──RY─╭●──||──RY─┤  <Z>\n",
       "30: ──H──RY─╭●──||──RY─╰X──||──RY─┤  <Z>\n",
       "31: ──H──RY─╰X──||──RY─╭●──||──RY─┤  <Z>\n",
       "32: ──H──RY─╭●──||──RY─╰X──||──RY─┤  <Z>\n",
       "33: ──H──RY─╰X──||──RY─╭●──||──RY─┤  <Z>\n",
       "34: ──H──RY─╭●──||──RY─╰X──||──RY─┤  <Z>\n",
       "35: ──H──RY─╰X──||──RY─╭●──||──RY─┤  <Z>\n",
       "36: ──H──RY─╭●──||──RY─╰X──||──RY─┤  <Z>\n",
       "37: ──H──RY─╰X──||──RY─╭●──||──RY─┤  <Z>\n",
       "38: ──H──RY─╭●──||──RY─╰X──||──RY─┤  <Z>\n",
       "39: ──H──RY─╰X──||──RY─╭●──||──RY─┤  <Z>\n",
       "40: ──H──RY─╭●──||──RY─╰X──||──RY─┤  <Z>\n",
       "41: ──H──RY─╰X──||──RY─╭●──||──RY─┤  <Z>\n",
       "42: ──H──RY─╭●──||──RY─╰X──||──RY─┤  <Z>\n",
       "43: ──H──RY─╰X──||──RY─╭●──||──RY─┤  <Z>\n",
       "44: ──H──RY─╭●──||──RY─╰X──||──RY─┤  <Z>\n",
       "45: ──H──RY─╰X──||──RY─╭●──||──RY─┤  <Z>\n",
       "46: ──H──RY─╭●──||──RY─╰X──||──RY─┤  <Z>\n",
       "47: ──H──RY─╰X──||──RY─╭●──||──RY─┤  <Z>\n",
       "48: ──H──RY─╭●──||──RY─╰X──||──RY─┤  <Z>\n",
       "49: ──H──RY─╰X──||──RY─╭●──||──RY─┤  <Z>\n",
       "50: ──H──RY─╭●──||──RY─╰X──||──RY─┤  <Z>\n",
       "51: ──H──RY─╰X──||──RY─╭●──||──RY─┤  <Z>\n",
       "52: ──H──RY─╭●──||──RY─╰X──||──RY─┤  <Z>\n",
       "53: ──H──RY─╰X──||──RY─╭●──||──RY─┤  <Z>\n",
       "54: ──H──RY─╭●──||──RY─╰X──||──RY─┤  <Z>\n",
       "55: ──H──RY─╰X──||──RY─╭●──||──RY─┤  <Z>\n",
       "56: ──H──RY─╭●──||──RY─╰X──||──RY─┤  <Z>\n",
       "57: ──H──RY─╰X──||──RY─╭●──||──RY─┤  <Z>\n",
       "58: ──H──RY─╭●──||──RY─╰X──||──RY─┤  <Z>\n",
       "59: ──H──RY─╰X──||──RY─╭●──||──RY─┤  <Z>\n",
       "60: ──H──RY─╭●──||──RY─╰X──||──RY─┤  <Z>\n",
       "61: ──H──RY─╰X──||──RY─╭●──||──RY─┤  <Z>\n",
       "62: ──H──RY─╭●──||──RY─╰X──||──RY─┤  <Z>\n",
       "63: ──H──RY─╰X──||──RY─────||──RY─┤  <Z>"
      ]
     },
     "execution_count": 18,
     "metadata": {},
     "output_type": "execute_result"
    }
   ],
   "source": [
    "prop = Propagator(ansatz, k1=4, k2=None)\n",
    "prop"
   ]
  },
  {
   "cell_type": "code",
   "execution_count": 19,
   "id": "8299f73c",
   "metadata": {},
   "outputs": [
    {
     "name": "stderr",
     "output_type": "stream",
     "text": [
      "Propagating Z(63): 100%|██████████| 64/64 [00:00<00:00, 149.15it/s]\n"
     ]
    }
   ],
   "source": [
    "prop.propagate()"
   ]
  },
  {
   "cell_type": "code",
   "execution_count": 21,
   "id": "6179c4d8",
   "metadata": {},
   "outputs": [],
   "source": [
    "func = prop.lambdify()"
   ]
  },
  {
   "cell_type": "code",
   "execution_count": 22,
   "id": "2798cdb9",
   "metadata": {},
   "outputs": [
    {
     "data": {
      "text/plain": [
       "[tensor(-0.80662229, requires_grad=True),\n",
       " tensor(-0.48501462, requires_grad=True),\n",
       " tensor(-0.01866235, requires_grad=True),\n",
       " tensor(-0.7706757, requires_grad=True),\n",
       " tensor(0.14474812, requires_grad=True),\n",
       " tensor(-0.2646237, requires_grad=True),\n",
       " tensor(-0.30377408, requires_grad=True),\n",
       " tensor(0.33392076, requires_grad=True),\n",
       " tensor(-0.04230253, requires_grad=True),\n",
       " tensor(-0.91800672, requires_grad=True),\n",
       " tensor(-0.06971689, requires_grad=True),\n",
       " tensor(-0.68583777, requires_grad=True),\n",
       " tensor(0.48417193, requires_grad=True),\n",
       " tensor(0.07484166, requires_grad=True),\n",
       " tensor(0.27805619, requires_grad=True),\n",
       " tensor(-0.86474061, requires_grad=True),\n",
       " tensor(-0.40908855, requires_grad=True),\n",
       " tensor(0.08867266, requires_grad=True),\n",
       " tensor(-0.09148497, requires_grad=True),\n",
       " tensor(0.02355589, requires_grad=True),\n",
       " tensor(-0.05123843, requires_grad=True),\n",
       " tensor(-0.54034324, requires_grad=True),\n",
       " tensor(-0.23643505, requires_grad=True),\n",
       " tensor(-0.50693332, requires_grad=True),\n",
       " tensor(-0.03337279, requires_grad=True),\n",
       " tensor(-0.27297941, requires_grad=True),\n",
       " tensor(-0.21274105, requires_grad=True),\n",
       " tensor(-0.49253249, requires_grad=True),\n",
       " tensor(0.16506843, requires_grad=True),\n",
       " tensor(0.0360532, requires_grad=True),\n",
       " tensor(0.10037353, requires_grad=True),\n",
       " tensor(-0.35321555, requires_grad=True),\n",
       " tensor(0.08381197, requires_grad=True),\n",
       " tensor(-0.36011414, requires_grad=True),\n",
       " tensor(0.17186653, requires_grad=True),\n",
       " tensor(0.1137734, requires_grad=True),\n",
       " tensor(-0.03014049, requires_grad=True),\n",
       " tensor(-0.34278086, requires_grad=True),\n",
       " tensor(-0.16578458, requires_grad=True),\n",
       " tensor(-0.86010326, requires_grad=True),\n",
       " tensor(-0.39761981, requires_grad=True),\n",
       " tensor(-0.4499811, requires_grad=True),\n",
       " tensor(0.20940434, requires_grad=True),\n",
       " tensor(-0.27652989, requires_grad=True),\n",
       " tensor(-0.43926723, requires_grad=True),\n",
       " tensor(-0.20737435, requires_grad=True),\n",
       " tensor(-0.31448622, requires_grad=True),\n",
       " tensor(-0.45624271, requires_grad=True),\n",
       " tensor(-0.18168939, requires_grad=True),\n",
       " tensor(-0.47635238, requires_grad=True),\n",
       " tensor(-0.44923436, requires_grad=True),\n",
       " tensor(-0.50047278, requires_grad=True),\n",
       " tensor(0.20590472, requires_grad=True),\n",
       " tensor(-0.48248303, requires_grad=True),\n",
       " tensor(-0.01588456, requires_grad=True),\n",
       " tensor(-0.40791648, requires_grad=True),\n",
       " tensor(-0.35169734, requires_grad=True),\n",
       " tensor(-0.6085134, requires_grad=True),\n",
       " tensor(-0.30179372, requires_grad=True),\n",
       " tensor(-0.5152116, requires_grad=True),\n",
       " tensor(0.07807648, requires_grad=True),\n",
       " tensor(-0.01405576, requires_grad=True),\n",
       " tensor(-0.1717246, requires_grad=True),\n",
       " tensor(-0.09475224, requires_grad=True)]"
      ]
     },
     "execution_count": 22,
     "metadata": {},
     "output_type": "execute_result"
    }
   ],
   "source": [
    "func(qml.numpy.random.rand(prop.num_params))"
   ]
  }
 ],
 "metadata": {
  "kernelspec": {
   "display_name": "Pauli-Propagator",
   "language": "python",
   "name": "python3"
  },
  "language_info": {
   "codemirror_mode": {
    "name": "ipython",
    "version": 3
   },
   "file_extension": ".py",
   "mimetype": "text/x-python",
   "name": "python",
   "nbconvert_exporter": "python",
   "pygments_lexer": "ipython3",
   "version": "3.12.3"
  }
 },
 "nbformat": 4,
 "nbformat_minor": 5
}
