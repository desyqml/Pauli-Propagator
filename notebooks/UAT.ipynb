{
 "cells": [
  {
   "cell_type": "markdown",
   "id": "b9e94d39",
   "metadata": {},
   "source": [
    "## Inspecting the Input–Output Dependency of the UAT Circuit\n",
    "\n",
    "*Source: [arXiv:2102.04032](https://arxiv.org/abs/2102.04032)*"
   ]
  },
  {
   "cell_type": "code",
   "execution_count": 1,
   "id": "5dcdb613",
   "metadata": {},
   "outputs": [
    {
     "name": "stderr",
     "output_type": "stream",
     "text": [
      "/home/samonaco/Projects/Pauli-Propagator/.venv/lib/python3.12/site-packages/pennylane/operation.py:2622: PennyLaneDeprecationWarning: Observable is deprecated and will be removed in v0.43. A generic Operator class should be used instead. If defining an Operator, set the is_hermitian property to True. If checking if an Operator is Hermitian, check the is_hermitian property. \n",
      "  warnings.warn(\n"
     ]
    }
   ],
   "source": [
    "import pennylane as qml\n",
    "\n",
    "from pprop import propagator\n",
    "\n",
    "def make_circuit(num_iterations):\n",
    "    names = []\n",
    "    def U(params, it):\n",
    "        phi = rf'\\varphi_{it}'\n",
    "        alpha = rf'\\alpha_{it}'\n",
    "        dot = rf'\\vec{{\\omega}}_{it}·\\vec{{x}}'\n",
    "\n",
    "        qml.RZ(params[0], wires=0)\n",
    "        names.append(f\"2{phi}\")\n",
    "        qml.RY(params[1], wires=0)\n",
    "        names.append(f\"2{dot}+2{alpha}\")\n",
    "\n",
    "    def circuit(params):\n",
    "        index = 0\n",
    "        for it in range(num_iterations):\n",
    "            U(params[index:index+2], it)\n",
    "            index+=2\n",
    "            \n",
    "        return qml.expval(qml.PauliZ(0))\n",
    "    return circuit, names"
   ]
  },
  {
   "cell_type": "code",
   "execution_count": 3,
   "id": "01cec63c",
   "metadata": {},
   "outputs": [
    {
     "name": "stdout",
     "output_type": "stream",
     "text": [
      "Depth 0\n",
      "Propagator\n",
      "  Number of qubits : 1\n",
      "  Trainable parameters : 2\n",
      "  Cutoff 1: None | Cutoff 2: None\n",
      "  Observables [Z(0)]\n",
      "0: ──RZ──RY─┤  <Z>\n"
     ]
    },
    {
     "name": "stderr",
     "output_type": "stream",
     "text": [
      "Propagating Z(0): 100%|██████████| 1/1 [00:00<00:00, 465.83it/s]\n"
     ]
    },
    {
     "data": {
      "text/latex": [
       "$\\displaystyle Z0 = cos(2\\vec{\\omega}_0·\\vec{x}+2\\alpha_0)$"
      ],
      "text/plain": [
       "<IPython.core.display.Math object>"
      ]
     },
     "metadata": {},
     "output_type": "display_data"
    },
    {
     "name": "stdout",
     "output_type": "stream",
     "text": [
      "Depth 1\n",
      "Propagator\n",
      "  Number of qubits : 1\n",
      "  Trainable parameters : 4\n",
      "  Cutoff 1: None | Cutoff 2: None\n",
      "  Observables [Z(0)]\n",
      "0: ──RZ──RY──RZ──RY─┤  <Z>\n"
     ]
    },
    {
     "name": "stderr",
     "output_type": "stream",
     "text": [
      "Propagating Z(0): 100%|██████████| 1/1 [00:00<00:00, 841.72it/s]\n"
     ]
    },
    {
     "data": {
      "text/latex": [
       "$\\displaystyle Z0 = -sin(2\\vec{\\omega}_0·\\vec{x}+2\\alpha_0)*sin(2\\vec{\\omega}_1·\\vec{x}+2\\alpha_1)*cos(2\\varphi_1) + cos(2\\vec{\\omega}_0·\\vec{x}+2\\alpha_0)*cos(2\\vec{\\omega}_1·\\vec{x}+2\\alpha_1)$"
      ],
      "text/plain": [
       "<IPython.core.display.Math object>"
      ]
     },
     "metadata": {},
     "output_type": "display_data"
    },
    {
     "name": "stdout",
     "output_type": "stream",
     "text": [
      "Depth 2\n",
      "Propagator\n",
      "  Number of qubits : 1\n",
      "  Trainable parameters : 6\n",
      "  Cutoff 1: None | Cutoff 2: None\n",
      "  Observables [Z(0)]\n",
      "0: ──RZ──RY──RZ──RY──RZ──RY─┤  <Z>\n"
     ]
    },
    {
     "name": "stderr",
     "output_type": "stream",
     "text": [
      "Propagating Z(0): 100%|██████████| 1/1 [00:00<00:00, 628.64it/s]\n"
     ]
    },
    {
     "data": {
      "text/latex": [
       "$\\displaystyle Z0 = sin(2\\varphi_1)*sin(2\\varphi_2)*sin(2\\vec{\\omega}_0·\\vec{x}+2\\alpha_0)*sin(2\\vec{\\omega}_2·\\vec{x}+2\\alpha_2) - sin(2\\vec{\\omega}_0·\\vec{x}+2\\alpha_0)*sin(2\\vec{\\omega}_1·\\vec{x}+2\\alpha_1)*cos(2\\varphi_1)*cos(2\\vec{\\omega}_2·\\vec{x}+2\\alpha_2) - sin(2\\vec{\\omega}_0·\\vec{x}+2\\alpha_0)*sin(2\\vec{\\omega}_2·\\vec{x}+2\\alpha_2)*cos(2\\varphi_1)*cos(2\\varphi_2)*cos(2\\vec{\\omega}_1·\\vec{x}+2\\alpha_1) - sin(2\\vec{\\omega}_1·\\vec{x}+2\\alpha_1)*sin(2\\vec{\\omega}_2·\\vec{x}+2\\alpha_2)*cos(2\\varphi_2)*cos(2\\vec{\\omega}_0·\\vec{x}+2\\alpha_0) + cos(2\\vec{\\omega}_0·\\vec{x}+2\\alpha_0)*cos(2\\vec{\\omega}_1·\\vec{x}+2\\alpha_1)*cos(2\\vec{\\omega}_2·\\vec{x}+2\\alpha_2)$"
      ],
      "text/plain": [
       "<IPython.core.display.Math object>"
      ]
     },
     "metadata": {},
     "output_type": "display_data"
    }
   ],
   "source": [
    "for depth in range(3):\n",
    "    print(f\"Depth {depth}\")\n",
    "    circuit, names = make_circuit(depth+1)\n",
    "    pp = propagator.Propagator(circuit)\n",
    "    print(pp)\n",
    "    pp.propagate()\n",
    "    _ = pp.expression(names = names, text = False)"
   ]
  }
 ],
 "metadata": {
  "kernelspec": {
   "display_name": "Pauli-Propagator",
   "language": "python",
   "name": "python3"
  },
  "language_info": {
   "codemirror_mode": {
    "name": "ipython",
    "version": 3
   },
   "file_extension": ".py",
   "mimetype": "text/x-python",
   "name": "python",
   "nbconvert_exporter": "python",
   "pygments_lexer": "ipython3",
   "version": "3.12.3"
  }
 },
 "nbformat": 4,
 "nbformat_minor": 5
}
